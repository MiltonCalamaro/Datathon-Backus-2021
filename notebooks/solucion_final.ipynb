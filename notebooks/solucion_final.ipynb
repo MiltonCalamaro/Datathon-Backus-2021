{
 "cells": [
  {
   "cell_type": "code",
   "execution_count": 2,
   "id": "7518b70a-3636-472f-b585-5796e4c996ef",
   "metadata": {},
   "outputs": [],
   "source": [
    "### variable con volores enteros\n",
    "## id_observacion, gasto*, fecha_captura_informacion*, fuente*, nombre_campania*, impresiones* no presentan valores nulos\n",
    "## cuando el arte no se publica (id_anuncio*, id_conjunto_anuncios*, id_campania*) al 42%, fecha_publicacion_anuncio*, formato* presentan valores nulos\n",
    "## objetivo_campania* presenta valores nulos al 24%, tomando en cuenta las artes que no se publicaron presenta valores nulos al 57%\n",
    "## visitas_al_50*, visitas_al_75*, visitas_al100* presentan valores nulos al 18%, tomando en cuenta las artes que no se publicaron presenta valores nulos al 48%"
   ]
  },
  {
   "cell_type": "markdown",
   "id": "587d8382-0808-4e20-8373-e8d73a905dd8",
   "metadata": {},
   "source": [
    "## Importar Librerias Estandar"
   ]
  },
  {
   "cell_type": "code",
   "execution_count": 1,
   "id": "5e53f10a-71b5-4e3e-91d3-325295d34067",
   "metadata": {},
   "outputs": [],
   "source": [
    "import pandas as pd\n",
    "import json\n",
    "import datetime as dt\n",
    "import numpy as np\n",
    "import re\n",
    "import warnings as w\n",
    "w.filterwarnings('ignore')"
   ]
  },
  {
   "cell_type": "markdown",
   "id": "63276ba3-0f1a-4c91-b497-13838208ac2f",
   "metadata": {},
   "source": [
    "## Definir Funciones"
   ]
  },
  {
   "cell_type": "code",
   "execution_count": 3,
   "id": "d250c37d-6f79-41cd-ba9d-3b7e033f8399",
   "metadata": {},
   "outputs": [],
   "source": [
    "def get_train():\n",
    "    #method: cargar la data de entrenamiento\n",
    "    with open('../data/train.json', mode='r') as f:\n",
    "        data = json.load(f)\n",
    "    list_dict_data = []\n",
    "    for i in data:\n",
    "        dict_data = {}\n",
    "        for j in i:\n",
    "            dict_data[list(j.keys())[0]] = j[list(j.keys())[0]]\n",
    "        list_dict_data.append(dict_data)\n",
    "    df = pd.DataFrame(list_dict_data)\n",
    "    return df\n",
    "\n",
    "def get_normalize_columns(df):\n",
    "    ##method: normalizar los nombres de columnas\n",
    "    df.columns = [i.strip().lower().translate(str.maketrans('áéíóúü','aeiouu')) for i in df.columns]\n",
    "    return df\n",
    "\n",
    "def get_feature_engineering(df):\n",
    "    ##method: aplicar feature engineering\n",
    "    df.replace({None:np.nan}, inplace=True)    \n",
    "    df.sort_values(['id_anuncio','fecha_captura_informacion'], ascending = True, inplace = True)\n",
    "    ### manejo de valores repetivos\n",
    "    df['nombre_campania'] = df['nombre_campania'].replace({'GASTRONOMIA':'GASTRONOMY','GASTRONOMÃ�A':'GASTRONOMY','GASTRONOMÍA':'GASTRONOMY'})\n",
    "    ### convertir a datetime las fecha de publicacion y captura\n",
    "    df['fecha_publicacion_anuncio'] = df['fecha_publicacion_anuncio'].apply(lambda x: dt.datetime.strptime(x, '%a, %d %b %Y 00:00:00 GMT') if str(x)!='nan' else np.nan)\n",
    "    df['fecha_captura_informacion'] = df['fecha_captura_informacion'].apply(lambda x: dt.datetime.strptime(x, '%a, %d %b %Y 00:00:00 GMT') if str(x)!='nan' else np.nan)\n",
    "\n",
    "    ### calucar la diferencia entra le fecha captura de informacion y la fecha de publicacion del anuncio\n",
    "    df['duracion_anuncio_dias'] = (df['fecha_captura_informacion'] - df['fecha_publicacion_anuncio']).dt.days\n",
    "\n",
    "    ### extraer la diferencia entra la captura de información con la anterior captura de informacion del anuncio\n",
    "    grouped = df.groupby('id_anuncio')\n",
    "    diff = lambda x: x['fecha_captura_informacion'].replace(0, np.NaN).diff() \n",
    "    df[\"diff_captura_anterior\"] = grouped.apply(diff).reset_index(0, drop = True).dt.days\n",
    "    df['diff_captura_anterior'].fillna(df['duracion_anuncio_dias'], inplace = True)\n",
    "    \n",
    "    # bins = [0, 7, 14, 21, 28, 35, 42, 49, float(\"inf\")]\n",
    "    # df['duracion_anuncio_semanas'] = pd.cut(df.duracion_anuncio_dias, bins).cat.codes + 1\n",
    "    # df['duracion_anuncio_semanas'] = df['duracion_anuncio_semanas'].replace({0:np.nan})\n",
    "\n",
    "    ### obtener los dias y meses de las fechas de publicacion y captura\n",
    "    df['fecha_captura_informacion_day'] = df['fecha_captura_informacion'].apply(lambda x: x.day)\n",
    "    df['fecha_captura_informacion_month'] = df['fecha_captura_informacion'].apply(lambda x: x.month)\n",
    "    df['fecha_publicacion_anuncio_day'] = df['fecha_publicacion_anuncio'].apply(lambda x: x.day)\n",
    "    df['fecha_publicacion_anuncio_month'] = df['fecha_publicacion_anuncio'].apply(lambda x: x.month)    \n",
    "    \n",
    "    # df['objetivo_campania'] =  df['objetivo_campania'].replace({np.nan: df['objetivo_campania'].value_counts().index[0]})\n",
    "    \n",
    "    ### imputar visitas cuando el anuncio se haya publicado\n",
    "    mask = df['id_anuncio'].astype(str)!='nan'\n",
    "    df.loc[mask,'visitas_al100'] = df[mask]['visitas_al100'].replace({np.nan:df['visitas_al100'].median()})\n",
    "    df.loc[mask,'visitas_al_75'] = df[mask]['visitas_al_75'].replace({np.nan:df['visitas_al_75'].median()})\n",
    "    df.loc[mask,'visitas_al_50'] = df[mask]['visitas_al_50'].replace({np.nan:df['visitas_al_50'].median()})      \n",
    "    return df\n",
    "\n",
    "def get_normalize_values(x):\n",
    "    ##method: normalizar los valores de las variables categoricas\n",
    "    x = x.lower()\n",
    "    x = x.strip()\n",
    "    x = re.sub(r'\\s+',' ', x)\n",
    "    x = x.translate(str.maketrans('áéíóúü','aeiouu'))\n",
    "    return x\n",
    "\n",
    "def get_one_hot(df, feature):\n",
    "    ##method: aplicar one_hot_enconding a las variables categoricas\n",
    "    df[feature] = df[feature].apply(lambda x:get_normalize_values(x) if type(x)==str else np.nan)\n",
    "    one_hot = pd.get_dummies(df[feature])\n",
    "    one_hot.columns = [feature+'_'+ i for i in one_hot.columns]\n",
    "    return one_hot\n",
    "\n",
    "def get_feature_selection(fi):\n",
    "    ##method: encontar las variables con una importancia acumulativa al 99% y las variables con zero importancia\n",
    "    zero_importance = fi[fi==0]\n",
    "    aux = fi[fi>0].sort_values(ascending=False)\n",
    "    keep_columns = []\n",
    "    count = 0\n",
    "    for feature,values in zip(aux.index, aux.values):\n",
    "        count+=values\n",
    "        if count<=0.99:\n",
    "            keep_columns.append(feature)\n",
    "            \n",
    "    print(f'total de variables : {len(fi)}')\n",
    "    print(f'variables con importancia acumulada al 99% : {len(keep_columns)}')\n",
    "    print(f'variables con zero importancia : {len(zero_importance)}')\n",
    "    return keep_columns, zero_importance"
   ]
  },
  {
   "cell_type": "markdown",
   "id": "77c6d35d-c181-4c9c-9bdc-a0ae9d3162de",
   "metadata": {},
   "source": [
    "## Cargar Train y Test "
   ]
  },
  {
   "cell_type": "code",
   "execution_count": 4,
   "id": "fc616eeb-dd44-4b73-bdac-29576eceb8d7",
   "metadata": {},
   "outputs": [],
   "source": [
    "train = get_train()\n",
    "test = pd.read_csv('../data/Data_Validacion.csv',sep=';')"
   ]
  },
  {
   "cell_type": "markdown",
   "id": "6e775224-e625-492b-8af7-b360c18f4578",
   "metadata": {},
   "source": [
    "## Procesamiento de la data (Train, Test, Target)"
   ]
  },
  {
   "cell_type": "code",
   "execution_count": 5,
   "id": "46bbdf64-8f2e-4b40-b455-1608198be4a7",
   "metadata": {},
   "outputs": [],
   "source": [
    "var_categ = ['fuente','objetivo_campania','formato','nombre_campania']\n",
    "train = get_normalize_columns(train)\n",
    "test = get_normalize_columns(test)\n",
    "train = get_feature_engineering(train)\n",
    "test = get_feature_engineering(test)\n",
    "\n",
    "### aplicar one_hot_encoding a las features categoricas\n",
    "list_one_hot_train = []\n",
    "for i in var_categ:\n",
    "    df = get_one_hot(train, i)\n",
    "    list_one_hot_train.append(df)\n",
    "one_hot_train = pd.concat(list_one_hot_train,axis=1)\n",
    "train = train.join(one_hot_train)\n",
    "\n",
    "train.set_index('id_observacion', inplace=True)\n",
    "train.drop(['id_conjunto_anuncios', 'id_anuncio', 'id_campania',\\\n",
    "            'moneda', 'country', 'brand','fecha_publicacion_anuncio','fecha_captura_informacion'], axis=1, inplace=True)\n",
    "\n",
    "list_one_hot_test = []\n",
    "for i in var_categ:\n",
    "    df = get_one_hot(test, i)\n",
    "    list_one_hot_test.append(df)\n",
    "one_hot_test = pd.concat(list_one_hot_test,axis=1)    \n",
    "test = test.join(one_hot_test)\n",
    "\n",
    "test.set_index('id_observacion', inplace=True)\n",
    "test.drop(['id_conjunto_anuncios', 'id_anuncio', 'id_campania',\\\n",
    "            'moneda', 'country', 'brand','fecha_publicacion_anuncio','fecha_captura_informacion'], axis=1, inplace=True)\n",
    "\n",
    "### reemplazar el valor de la variable gasto\n",
    "test['gasto'] = test['gasto'].replace({'40000%':40000})\n",
    "test['gasto'] = test['gasto'].astype(float)\n",
    "y_train = train[['interacciones']].rename(columns = {'interacciones':'target'})"
   ]
  },
  {
   "cell_type": "code",
   "execution_count": 6,
   "id": "8ba49613-b982-4323-9ffe-27dfeebbbeba",
   "metadata": {},
   "outputs": [],
   "source": [
    "### aplicar mean encoding a las variables categoricas\n",
    "mean_encoding_fuente = train.groupby('fuente').interacciones.mean().to_dict()\n",
    "mean_encoding_objetivo_campania = train.groupby('objetivo_campania').interacciones.mean().to_dict()\n",
    "mean_encoding_formato = train.groupby('formato').interacciones.mean().to_dict()\n",
    "mean_encoding_nombre_campania = train.groupby('nombre_campania').interacciones.mean().to_dict()\n",
    "\n",
    "train['mean_encoding_fuente'] = train['fuente'].replace(mean_encoding_fuente)\n",
    "test['mean_encoding_fuente'] = test['fuente'].replace(mean_encoding_fuente)\n",
    "\n",
    "train['mean_encoding_objetivo_campania'] = train['objetivo_campania'].replace(mean_encoding_objetivo_campania)\n",
    "test['mean_encoding_objetivo_campania'] = test['objetivo_campania'].replace(mean_encoding_objetivo_campania)\n",
    "\n",
    "train['mean_encoding_formato'] = train['formato'].replace(mean_encoding_formato)\n",
    "test['mean_encoding_formato'] = test['formato'].replace(mean_encoding_formato)\n",
    "\n",
    "train['mean_encoding_nombre_campania'] = train['nombre_campania'].replace(mean_encoding_nombre_campania)\n",
    "test['mean_encoding_nombre_campania'] = test['nombre_campania'].replace(mean_encoding_nombre_campania)\n",
    "\n",
    "train.drop(var_categ, axis=1, inplace=True)\n",
    "test.drop(var_categ, axis=1, inplace=True)"
   ]
  },
  {
   "cell_type": "markdown",
   "id": "b1166aba-1e67-4d78-b1d1-11b92647e0cd",
   "metadata": {},
   "source": [
    "## Uniformizar las variables en Train y Test"
   ]
  },
  {
   "cell_type": "code",
   "execution_count": 17,
   "id": "2964e7a7-daf9-4a28-8fbd-120ac8a4ae72",
   "metadata": {},
   "outputs": [
    {
     "name": "stdout",
     "output_type": "stream",
     "text": [
      "entrando a feature_importances (5562, 39) (2378, 39)\n"
     ]
    }
   ],
   "source": [
    "try:\n",
    "    features_importances_rec = features_importances[features_importances>0]\n",
    "    train = train[features_importances_rec.index]\n",
    "    test = test[features_importances_rec.index]\n",
    "    print('entrando a feature_importances', train.shape, test.shape)\n",
    "except:\n",
    "    keep_columns = set(test.columns).intersection(set(train.columns))\n",
    "    train = train[keep_columns]\n",
    "    test = test[keep_columns]\n",
    "    print('normal', train.shape, test.shape)"
   ]
  },
  {
   "cell_type": "markdown",
   "id": "861270f7-a347-49b2-94d6-1e3021964e40",
   "metadata": {},
   "source": [
    "## Cross Validation"
   ]
  },
  {
   "cell_type": "code",
   "execution_count": 18,
   "id": "4e30ee72-cec4-4fa3-a031-0904c4ee6dc4",
   "metadata": {},
   "outputs": [],
   "source": [
    "# from sklearn.model_selection import KFold\n",
    "# from lightgbm import LGBMRegressor\n",
    "# from sklearn.metrics import mean_squared_error\n",
    "# from sklearn.model_selection import ParameterGrid\n",
    "# params = ParameterGrid({\"min_child_samples\": [10, 20, 25],\n",
    "#                         \"max_depth\":[6, 9, -1], \n",
    "#                         \"learning_rate\":[0.1,0.2]})\n",
    "# # test_probs = []\n",
    "# # train_probs = []\n",
    "# # fi = []\n",
    "# folds = [train.index[t] for t, v in KFold(5).split(train)]\n",
    "# result_tunning = {\"score\":999999,\"param\":\"\"}\n",
    "# for param in params:\n",
    "#     test_probs = []\n",
    "#     train_probs = []\n",
    "#     for i, idx in enumerate(folds):\n",
    "#         # print(\"*\"*10, i, \"*\"*10)\n",
    "#         Xt = train.loc[idx]\n",
    "#         yt = y_train.loc[Xt.index].target\n",
    "\n",
    "#         Xv = train.drop(Xt.index)\n",
    "#         yv = y_train.loc[Xv.index].target\n",
    "\n",
    "#         learner = LGBMRegressor(n_estimators=1000, random_state=42, **param)\n",
    "\n",
    "#         learner.fit(Xt, yt,  early_stopping_rounds=10, eval_metric=\"rmse\",\n",
    "#                         eval_set=[(Xt, yt), (Xv, yv)], verbose = False)\n",
    "\n",
    "#         test_probs.append(pd.Series(learner.predict(test), index=test.index, name=\"fold_\" + str(i)))\n",
    "#         train_probs.append(pd.Series(learner.predict(Xv), index=Xv.index, name=\"probs\"))\n",
    "#         # fi.append(pd.Series(learner.feature_importances_ / learner.feature_importances_.sum(), index=Xt.columns))\n",
    "\n",
    "#     test_probs = pd.concat(test_probs, axis=1).mean(axis=1)\n",
    "#     test_probs = test_probs.apply(lambda x: 0 if x<0 else x)\n",
    "\n",
    "#     train_probs = pd.concat(train_probs)\n",
    "#     train_probs = train_probs.apply(lambda x: 0 if x<0 else x)\n",
    "\n",
    "#     # fi = pd.concat(fi, axis=1).mean(axis=1)\n",
    "#     #print('rmse', np.sqrt(np.sum(( train_probs.loc[train.index] - y_train.loc[train.index].target)**2)/len(train)))\n",
    "#     score = mean_squared_error(y_train.loc[train.index].target, train_probs.loc[train.index], squared=False)\n",
    "#     print('param', param, score)\n",
    "#     if score < result_tunning[\"score\"]:\n",
    "#         result_tunning[\"score\"] = score\n",
    "#         result_tunning[\"param\"] = param\n",
    "# print(result_tunning)"
   ]
  },
  {
   "cell_type": "markdown",
   "id": "d4f7828e-1f61-4bb5-ad75-43831dcbe673",
   "metadata": {},
   "source": [
    "## Entrenamiento de la Data "
   ]
  },
  {
   "cell_type": "code",
   "execution_count": 19,
   "id": "a11d4316-5273-4824-831c-50cdce390fd5",
   "metadata": {},
   "outputs": [
    {
     "data": {
      "text/plain": [
       "LGBMRegressor(n_estimators=1000, random_state=42)"
      ]
     },
     "execution_count": 19,
     "metadata": {},
     "output_type": "execute_result"
    }
   ],
   "source": [
    "from lightgbm import LGBMRegressor\n",
    "# learner = LGBMRegressor(n_estimators=1000,  random_state=42, **result_tunning[\"param\"]) \n",
    "learner = LGBMRegressor(n_estimators=1000,  random_state=42)\n",
    "learner.fit(train, y_train, eval_metric=\"rmse\")"
   ]
  },
  {
   "cell_type": "markdown",
   "id": "59f600c8-0b90-4431-b7ad-cb4097284b0c",
   "metadata": {},
   "source": [
    "## Visualización del la Importancia de Variables"
   ]
  },
  {
   "cell_type": "code",
   "execution_count": 20,
   "id": "718adcf7-9f2d-40b8-8dc8-990468091480",
   "metadata": {},
   "outputs": [
    {
     "name": "stdout",
     "output_type": "stream",
     "text": [
      "total de variables : 39\n",
      "variables con importancia acumulada al 99% : 22\n",
      "variables con zero importancia : 1\n"
     ]
    }
   ],
   "source": [
    "features_importances = pd.Series(learner.feature_importances_ / learner.feature_importances_.sum(), index=train.columns).sort_values(ascending=False)\n",
    "_, _ = get_feature_selection(features_importances)"
   ]
  },
  {
   "cell_type": "code",
   "execution_count": 21,
   "id": "38be1f9c-be90-48d9-98fb-6a4ec0ae3fdb",
   "metadata": {},
   "outputs": [
    {
     "data": {
      "text/plain": [
       "gasto                                0.247267\n",
       "impresiones                          0.180400\n",
       "fecha_captura_informacion_day        0.129067\n",
       "duracion_anuncio_dias                0.094867\n",
       "diff_captura_anterior                0.052567\n",
       "visitas_al_75                        0.044867\n",
       "mean_encoding_objetivo_campania      0.042400\n",
       "visitas_al100                        0.034567\n",
       "fecha_publicacion_anuncio_day        0.033533\n",
       "visitas_al_50                        0.032600\n",
       "fecha_captura_informacion_month      0.025400\n",
       "fecha_publicacion_anuncio_month      0.014033\n",
       "mean_encoding_formato                0.009267\n",
       "mean_encoding_fuente                 0.007767\n",
       "mean_encoding_nombre_campania        0.007200\n",
       "nombre_campania_gastronomy           0.006867\n",
       "objetivo_campania_traffic            0.006033\n",
       "fuente_fb + ig                       0.005267\n",
       "fuente_direct                        0.005067\n",
       "fuente_twitter                       0.003533\n",
       "objetivo_campania_brand awareness    0.003500\n",
       "formato_imagen                       0.002733\n",
       "objetivo_campania_video views        0.002667\n",
       "objetivo_campania_conversions        0.002000\n",
       "formato_carrusel                     0.001633\n",
       "fuente_oath                          0.000833\n",
       "nombre_campania_aon                  0.000800\n",
       "nombre_campania_promo cusquena       0.000733\n",
       "fuente_teads                         0.000667\n",
       "formato_stories                      0.000567\n",
       "fuente_youtube                       0.000333\n",
       "formato_video                        0.000267\n",
       "nombre_campania_terra lima           0.000200\n",
       "nombre_campania_terra cusco          0.000200\n",
       "nombre_campania_gastronomia promo    0.000100\n",
       "objetivo_campania_event responses    0.000100\n",
       "formato_key words                    0.000067\n",
       "formato_rm display                   0.000033\n",
       "formato_banner rm                    0.000000\n",
       "dtype: float64"
      ]
     },
     "execution_count": 21,
     "metadata": {},
     "output_type": "execute_result"
    }
   ],
   "source": [
    "features_importances"
   ]
  },
  {
   "cell_type": "code",
   "execution_count": 22,
   "id": "8fc60dc0-982f-4b78-b309-87641819ffbe",
   "metadata": {},
   "outputs": [
    {
     "data": {
      "image/png": "[encoded data removed]",
      "text/plain": [
       "<Figure size 1440x720 with 1 Axes>"
      ]
     },
     "metadata": {
      "needs_background": "light"
     },
     "output_type": "display_data"
    }
   ],
   "source": [
    "%matplotlib inline\n",
    "features_importances.nlargest(40).plot(kind='barh', figsize=(20,10));"
   ]
  },
  {
   "cell_type": "markdown",
   "id": "ba61d09d-9696-49ec-9919-5de0b01ddf96",
   "metadata": {},
   "source": [
    "## Submit"
   ]
  },
  {
   "cell_type": "code",
   "execution_count": 23,
   "id": "d1c2ef14-815a-4516-8c61-d0edef128bee",
   "metadata": {},
   "outputs": [],
   "source": [
    "test_submit = test.copy()\n",
    "test_submit['INTERACCIONES'] = learner.predict(test_submit)\n",
    "mask = test_submit['INTERACCIONES']<=0\n",
    "test_submit.loc[mask,'INTERACCIONES'] = 0"
   ]
  },
  {
   "cell_type": "code",
   "execution_count": 24,
   "id": "c0b0d7ee-1098-4cd3-b3ed-0442a2bac39d",
   "metadata": {},
   "outputs": [
    {
     "data": {
      "text/html": [
       "<div>\n",
       "<style scoped>\n",
       "    .dataframe tbody tr th:only-of-type {\n",
       "        vertical-align: middle;\n",
       "    }\n",
       "\n",
       "    .dataframe tbody tr th {\n",
       "        vertical-align: top;\n",
       "    }\n",
       "\n",
       "    .dataframe thead th {\n",
       "        text-align: right;\n",
       "    }\n",
       "</style>\n",
       "<table border=\"1\" class=\"dataframe\">\n",
       "  <thead>\n",
       "    <tr style=\"text-align: right;\">\n",
       "      <th></th>\n",
       "      <th>ID_OBSERVACION</th>\n",
       "      <th>INTERACCIONES</th>\n",
       "    </tr>\n",
       "  </thead>\n",
       "  <tbody>\n",
       "    <tr>\n",
       "      <th>0</th>\n",
       "      <td>ID_V_001297</td>\n",
       "      <td>12.854851</td>\n",
       "    </tr>\n",
       "    <tr>\n",
       "      <th>1</th>\n",
       "      <td>ID_V_001317</td>\n",
       "      <td>262.184191</td>\n",
       "    </tr>\n",
       "    <tr>\n",
       "      <th>2</th>\n",
       "      <td>ID_V_001305</td>\n",
       "      <td>93.986629</td>\n",
       "    </tr>\n",
       "    <tr>\n",
       "      <th>3</th>\n",
       "      <td>ID_V_001312</td>\n",
       "      <td>0.000000</td>\n",
       "    </tr>\n",
       "    <tr>\n",
       "      <th>4</th>\n",
       "      <td>ID_V_001324</td>\n",
       "      <td>4.005077</td>\n",
       "    </tr>\n",
       "    <tr>\n",
       "      <th>...</th>\n",
       "      <td>...</td>\n",
       "      <td>...</td>\n",
       "    </tr>\n",
       "    <tr>\n",
       "      <th>2373</th>\n",
       "      <td>ID_V_002241</td>\n",
       "      <td>0.000000</td>\n",
       "    </tr>\n",
       "    <tr>\n",
       "      <th>2374</th>\n",
       "      <td>ID_V_001861</td>\n",
       "      <td>223.947750</td>\n",
       "    </tr>\n",
       "    <tr>\n",
       "      <th>2375</th>\n",
       "      <td>ID_V_001864</td>\n",
       "      <td>2795.141428</td>\n",
       "    </tr>\n",
       "    <tr>\n",
       "      <th>2376</th>\n",
       "      <td>ID_V_001865</td>\n",
       "      <td>3570.343453</td>\n",
       "    </tr>\n",
       "    <tr>\n",
       "      <th>2377</th>\n",
       "      <td>ID_V_001866</td>\n",
       "      <td>3654.414070</td>\n",
       "    </tr>\n",
       "  </tbody>\n",
       "</table>\n",
       "<p>2378 rows × 2 columns</p>\n",
       "</div>"
      ],
      "text/plain": [
       "     ID_OBSERVACION  INTERACCIONES\n",
       "0       ID_V_001297      12.854851\n",
       "1       ID_V_001317     262.184191\n",
       "2       ID_V_001305      93.986629\n",
       "3       ID_V_001312       0.000000\n",
       "4       ID_V_001324       4.005077\n",
       "...             ...            ...\n",
       "2373    ID_V_002241       0.000000\n",
       "2374    ID_V_001861     223.947750\n",
       "2375    ID_V_001864    2795.141428\n",
       "2376    ID_V_001865    3570.343453\n",
       "2377    ID_V_001866    3654.414070\n",
       "\n",
       "[2378 rows x 2 columns]"
      ]
     },
     "execution_count": 24,
     "metadata": {},
     "output_type": "execute_result"
    }
   ],
   "source": [
    "test_submit = test_submit.reset_index()\n",
    "test_submit = test_submit[['id_observacion','INTERACCIONES']]\n",
    "test_submit.columns = ['ID_OBSERVACION', 'INTERACCIONES']\n",
    "test_submit"
   ]
  },
  {
   "cell_type": "code",
   "execution_count": 25,
   "id": "82028579-6304-4229-aeb0-1f353ed8c523",
   "metadata": {},
   "outputs": [],
   "source": [
    "test_submit.to_csv('../results/test_final.csv', index=False)"
   ]
  }
 ],
 "metadata": {
  "kernelspec": {
   "display_name": "Python 3 (ipykernel)",
   "language": "python",
   "name": "python3"
  },
  "language_info": {
   "codemirror_mode": {
    "name": "ipython",
    "version": 3
   },
   "file_extension": ".py",
   "mimetype": "text/x-python",
   "name": "python",
   "nbconvert_exporter": "python",
   "pygments_lexer": "ipython3",
   "version": "3.8.5"
  }
 },
 "nbformat": 4,
 "nbformat_minor": 5
}
